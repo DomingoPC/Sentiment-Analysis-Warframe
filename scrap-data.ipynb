{
 "cells": [
  {
   "cell_type": "code",
   "execution_count": 17,
   "id": "2711fde2",
   "metadata": {},
   "outputs": [],
   "source": [
    "from selenium import webdriver\n",
    "from selenium.webdriver.common.by import By\n",
    "from selenium.webdriver.support.ui import WebDriverWait\n",
    "from selenium.webdriver.support import expected_conditions as EC\n",
    "\n",
    "# Random sleep time\n",
    "import time\n",
    "from random import uniform"
   ]
  },
  {
   "cell_type": "code",
   "execution_count": 18,
   "id": "d6f7efe6",
   "metadata": {},
   "outputs": [
    {
     "ename": "InvalidSessionIdException",
     "evalue": "Message: invalid session id\nStacktrace:\n\tGetHandleVerifier [0x00007FF644B8CF45+75717]\n\tGetHandleVerifier [0x00007FF644B8CFA0+75808]\n\t(No symbol) [0x00007FF644958DCC]\n\t(No symbol) [0x00007FF64499F54F]\n\t(No symbol) [0x00007FF6449D7242]\n\t(No symbol) [0x00007FF6449D1C63]\n\t(No symbol) [0x00007FF6449D0D29]\n\t(No symbol) [0x00007FF644925A55]\n\tGetHandleVerifier [0x00007FF644E8D71D+3223453]\n\tGetHandleVerifier [0x00007FF644E87CC2+3200322]\n\tGetHandleVerifier [0x00007FF644EA5AF3+3322739]\n\tGetHandleVerifier [0x00007FF644BA6A1A+180890]\n\tGetHandleVerifier [0x00007FF644BAE11F+211359]\n\t(No symbol) [0x00007FF644924AC8]\n\tGetHandleVerifier [0x00007FF644F76FC8+4180040]\n\tBaseThreadInitThunk [0x00007FFB9EC3E8D7+23]\n\tRtlUserThreadStart [0x00007FFBA03FC5DC+44]\n",
     "output_type": "error",
     "traceback": [
      "\u001b[1;31m---------------------------------------------------------------------------\u001b[0m",
      "\u001b[1;31mInvalidSessionIdException\u001b[0m                 Traceback (most recent call last)",
      "Cell \u001b[1;32mIn[18], line 47\u001b[0m\n\u001b[0;32m     44\u001b[0m \u001b[38;5;66;03m# Extract data        \u001b[39;00m\n\u001b[0;32m     45\u001b[0m \u001b[38;5;28;01mfor\u001b[39;00m item \u001b[38;5;129;01min\u001b[39;00m items:\n\u001b[0;32m     46\u001b[0m     \u001b[38;5;66;03m# Comment's text without leading and trailing whitespaces\u001b[39;00m\n\u001b[1;32m---> 47\u001b[0m     text_list \u001b[38;5;241m=\u001b[39m [i\u001b[38;5;241m.\u001b[39mtext \u001b[38;5;28;01mfor\u001b[39;00m i \u001b[38;5;129;01min\u001b[39;00m item\u001b[38;5;241m.\u001b[39mfind_elements(By\u001b[38;5;241m.\u001b[39mTAG_NAME, \u001b[38;5;124m'\u001b[39m\u001b[38;5;124mp\u001b[39m\u001b[38;5;124m'\u001b[39m)]\n\u001b[0;32m     48\u001b[0m     data_dict[\u001b[38;5;124m'\u001b[39m\u001b[38;5;124mcomment\u001b[39m\u001b[38;5;124m'\u001b[39m]\u001b[38;5;241m.\u001b[39mappend(\u001b[38;5;124m'\u001b[39m\u001b[38;5;124m \u001b[39m\u001b[38;5;124m'\u001b[39m\u001b[38;5;241m.\u001b[39mjoin(text_list)\u001b[38;5;241m.\u001b[39mstrip())\n\u001b[0;32m     50\u001b[0m     \u001b[38;5;66;03m# Author and date from authorPane class\u001b[39;00m\n",
      "File \u001b[1;32mc:\\Users\\domin\\anaconda3\\Lib\\site-packages\\selenium\\webdriver\\remote\\webelement.py:439\u001b[0m, in \u001b[0;36mWebElement.find_elements\u001b[1;34m(self, by, value)\u001b[0m\n\u001b[0;32m    436\u001b[0m     by \u001b[38;5;241m=\u001b[39m By\u001b[38;5;241m.\u001b[39mCSS_SELECTOR\n\u001b[0;32m    437\u001b[0m     value \u001b[38;5;241m=\u001b[39m \u001b[38;5;124mf\u001b[39m\u001b[38;5;124m'\u001b[39m\u001b[38;5;124m[name=\u001b[39m\u001b[38;5;124m\"\u001b[39m\u001b[38;5;132;01m{\u001b[39;00mvalue\u001b[38;5;132;01m}\u001b[39;00m\u001b[38;5;124m\"\u001b[39m\u001b[38;5;124m]\u001b[39m\u001b[38;5;124m'\u001b[39m\n\u001b[1;32m--> 439\u001b[0m \u001b[38;5;28;01mreturn\u001b[39;00m \u001b[38;5;28mself\u001b[39m\u001b[38;5;241m.\u001b[39m_execute(Command\u001b[38;5;241m.\u001b[39mFIND_CHILD_ELEMENTS, {\u001b[38;5;124m\"\u001b[39m\u001b[38;5;124musing\u001b[39m\u001b[38;5;124m\"\u001b[39m: by, \u001b[38;5;124m\"\u001b[39m\u001b[38;5;124mvalue\u001b[39m\u001b[38;5;124m\"\u001b[39m: value})[\u001b[38;5;124m\"\u001b[39m\u001b[38;5;124mvalue\u001b[39m\u001b[38;5;124m\"\u001b[39m]\n",
      "File \u001b[1;32mc:\\Users\\domin\\anaconda3\\Lib\\site-packages\\selenium\\webdriver\\remote\\webelement.py:395\u001b[0m, in \u001b[0;36mWebElement._execute\u001b[1;34m(self, command, params)\u001b[0m\n\u001b[0;32m    393\u001b[0m     params \u001b[38;5;241m=\u001b[39m {}\n\u001b[0;32m    394\u001b[0m params[\u001b[38;5;124m\"\u001b[39m\u001b[38;5;124mid\u001b[39m\u001b[38;5;124m\"\u001b[39m] \u001b[38;5;241m=\u001b[39m \u001b[38;5;28mself\u001b[39m\u001b[38;5;241m.\u001b[39m_id\n\u001b[1;32m--> 395\u001b[0m \u001b[38;5;28;01mreturn\u001b[39;00m \u001b[38;5;28mself\u001b[39m\u001b[38;5;241m.\u001b[39m_parent\u001b[38;5;241m.\u001b[39mexecute(command, params)\n",
      "File \u001b[1;32mc:\\Users\\domin\\anaconda3\\Lib\\site-packages\\selenium\\webdriver\\remote\\webdriver.py:347\u001b[0m, in \u001b[0;36mWebDriver.execute\u001b[1;34m(self, driver_command, params)\u001b[0m\n\u001b[0;32m    345\u001b[0m response \u001b[38;5;241m=\u001b[39m \u001b[38;5;28mself\u001b[39m\u001b[38;5;241m.\u001b[39mcommand_executor\u001b[38;5;241m.\u001b[39mexecute(driver_command, params)\n\u001b[0;32m    346\u001b[0m \u001b[38;5;28;01mif\u001b[39;00m response:\n\u001b[1;32m--> 347\u001b[0m     \u001b[38;5;28mself\u001b[39m\u001b[38;5;241m.\u001b[39merror_handler\u001b[38;5;241m.\u001b[39mcheck_response(response)\n\u001b[0;32m    348\u001b[0m     response[\u001b[38;5;124m\"\u001b[39m\u001b[38;5;124mvalue\u001b[39m\u001b[38;5;124m\"\u001b[39m] \u001b[38;5;241m=\u001b[39m \u001b[38;5;28mself\u001b[39m\u001b[38;5;241m.\u001b[39m_unwrap_value(response\u001b[38;5;241m.\u001b[39mget(\u001b[38;5;124m\"\u001b[39m\u001b[38;5;124mvalue\u001b[39m\u001b[38;5;124m\"\u001b[39m, \u001b[38;5;28;01mNone\u001b[39;00m))\n\u001b[0;32m    349\u001b[0m     \u001b[38;5;28;01mreturn\u001b[39;00m response\n",
      "File \u001b[1;32mc:\\Users\\domin\\anaconda3\\Lib\\site-packages\\selenium\\webdriver\\remote\\errorhandler.py:229\u001b[0m, in \u001b[0;36mErrorHandler.check_response\u001b[1;34m(self, response)\u001b[0m\n\u001b[0;32m    227\u001b[0m         alert_text \u001b[38;5;241m=\u001b[39m value[\u001b[38;5;124m\"\u001b[39m\u001b[38;5;124malert\u001b[39m\u001b[38;5;124m\"\u001b[39m]\u001b[38;5;241m.\u001b[39mget(\u001b[38;5;124m\"\u001b[39m\u001b[38;5;124mtext\u001b[39m\u001b[38;5;124m\"\u001b[39m)\n\u001b[0;32m    228\u001b[0m     \u001b[38;5;28;01mraise\u001b[39;00m exception_class(message, screen, stacktrace, alert_text)  \u001b[38;5;66;03m# type: ignore[call-arg]  # mypy is not smart enough here\u001b[39;00m\n\u001b[1;32m--> 229\u001b[0m \u001b[38;5;28;01mraise\u001b[39;00m exception_class(message, screen, stacktrace)\n",
      "\u001b[1;31mInvalidSessionIdException\u001b[0m: Message: invalid session id\nStacktrace:\n\tGetHandleVerifier [0x00007FF644B8CF45+75717]\n\tGetHandleVerifier [0x00007FF644B8CFA0+75808]\n\t(No symbol) [0x00007FF644958DCC]\n\t(No symbol) [0x00007FF64499F54F]\n\t(No symbol) [0x00007FF6449D7242]\n\t(No symbol) [0x00007FF6449D1C63]\n\t(No symbol) [0x00007FF6449D0D29]\n\t(No symbol) [0x00007FF644925A55]\n\tGetHandleVerifier [0x00007FF644E8D71D+3223453]\n\tGetHandleVerifier [0x00007FF644E87CC2+3200322]\n\tGetHandleVerifier [0x00007FF644EA5AF3+3322739]\n\tGetHandleVerifier [0x00007FF644BA6A1A+180890]\n\tGetHandleVerifier [0x00007FF644BAE11F+211359]\n\t(No symbol) [0x00007FF644924AC8]\n\tGetHandleVerifier [0x00007FF644F76FC8+4180040]\n\tBaseThreadInitThunk [0x00007FFB9EC3E8D7+23]\n\tRtlUserThreadStart [0x00007FFBA03FC5DC+44]\n"
     ]
    }
   ],
   "source": [
    "# --- Set Up ---\n",
    "# Start Driver\n",
    "driver = webdriver.Chrome(options=options)\n",
    "\n",
    "# Access Reference Page\n",
    "url = 'https://forums.warframe.com/topic/1453670-dev-workshop-isleweaver-valkyr-rework/#comment-13297757'\n",
    "driver.get(url)\n",
    "time.sleep(5)\n",
    "\n",
    "# Find max page number\n",
    "xpath = '//input[contains(@type, \"number\") and contains(@class, \"ipsField_fullWidth\")]'\n",
    "items = driver.find_element(By.XPATH, xpath)\n",
    "max_page = int(items.get_attribute('max'))\n",
    "\n",
    "# List of pages with comments\n",
    "pages = [num_page for num_page in range(max_page-1, 1)]\n",
    "for idx in range(1, max_page):\n",
    "    pages.append(f'https://forums.warframe.com/topic/1453670-dev-workshop-isleweaver-valkyr-rework/page/{idx}/#comments')\n",
    "\n",
    "# Stop set-up driver\n",
    "driver.quit()\n",
    "\n",
    "\n",
    "# --- Extract data from every page ---\n",
    "# Automatically open Inspector (F12)\n",
    "# If this isn't added, cannot get author names and comment post date (??)\n",
    "options = webdriver.ChromeOptions() \n",
    "options.add_argument(\"--auto-open-devtools-for-tabs\")\n",
    "\n",
    "data_dict = {'author': [], 'likes': [], 'date': [], 'comment': []}\n",
    "\n",
    "for url in pages:\n",
    "    # Start a new driver to avoid Cloudflare human check \n",
    "    # (legal based on robots.txt)\n",
    "    driver = webdriver.Chrome(options=options)\n",
    "\n",
    "    # Access Reference Page\n",
    "    driver.get(url)\n",
    "\n",
    "    # Find comment boxes\n",
    "    xpath = '//article[contains(@class, \"cPost ipsBox ipsResponsive_pull\")]'\n",
    "    items = driver.find_elements(By.XPATH, xpath)\n",
    "\n",
    "    # Extract data        \n",
    "    for item in items:\n",
    "        # Comment's text without leading and trailing whitespaces\n",
    "        text_list = [i.text for i in item.find_elements(By.TAG_NAME, 'p')]\n",
    "        data_dict['comment'].append(' '.join(text_list).strip())\n",
    "\n",
    "        # Author and date from authorPane class\n",
    "        authorPane = item.find_element(By.CLASS_NAME, 'cAuthorPane_content')\n",
    "        name = authorPane.find_element(By.TAG_NAME, 'span').text\n",
    "        date = authorPane.find_element(By.TAG_NAME, 'time').text\n",
    "        \n",
    "        data_dict['author'].append(name)\n",
    "        data_dict['date'].append(date)\n",
    "\n",
    "        # Likes\n",
    "        try:\n",
    "            # Locate Like Counter\n",
    "            likeCountButton = item.find_element(By.CLASS_NAME, 'ipsReact_reactCount')\n",
    "            likes = likeCountButton.find_element(By.TAG_NAME, 'span').text\n",
    "        except:\n",
    "            # No counter found\n",
    "            likes = 0\n",
    "        finally:\n",
    "            data_dict['likes'].append(likes)\n",
    "    \n",
    "    # Close current tab\n",
    "    driver.quit()\n",
    "    time.sleep(uniform(a=3.0, b=4.0))\n"
   ]
  },
  {
   "cell_type": "code",
   "execution_count": 19,
   "id": "92a070c6",
   "metadata": {},
   "outputs": [
    {
     "data": {
      "text/html": [
       "<div>\n",
       "<style scoped>\n",
       "    .dataframe tbody tr th:only-of-type {\n",
       "        vertical-align: middle;\n",
       "    }\n",
       "\n",
       "    .dataframe tbody tr th {\n",
       "        vertical-align: top;\n",
       "    }\n",
       "\n",
       "    .dataframe thead th {\n",
       "        text-align: right;\n",
       "    }\n",
       "</style>\n",
       "<table border=\"1\" class=\"dataframe\">\n",
       "  <thead>\n",
       "    <tr style=\"text-align: right;\">\n",
       "      <th></th>\n",
       "      <th>author</th>\n",
       "      <th>likes</th>\n",
       "      <th>date</th>\n",
       "      <th>comment</th>\n",
       "    </tr>\n",
       "  </thead>\n",
       "  <tbody>\n",
       "    <tr>\n",
       "      <th>0</th>\n",
       "      <td>[DE]Sam</td>\n",
       "      <td>108</td>\n",
       "      <td>May 9</td>\n",
       "      <td>VALKYR\\nTenno, A berserker’s fury fills the ai...</td>\n",
       "    </tr>\n",
       "    <tr>\n",
       "      <th>1</th>\n",
       "      <td>oswarlan</td>\n",
       "      <td>371</td>\n",
       "      <td>May 10</td>\n",
       "      <td>Honestly, losing the invulnerability on Hyster...</td>\n",
       "    </tr>\n",
       "    <tr>\n",
       "      <th>2</th>\n",
       "      <td>StageNameFrank</td>\n",
       "      <td>52</td>\n",
       "      <td>May 10</td>\n",
       "      <td>finally, valkyr's slide attack isn't the only ...</td>\n",
       "    </tr>\n",
       "    <tr>\n",
       "      <th>3</th>\n",
       "      <td>18K-</td>\n",
       "      <td>12</td>\n",
       "      <td>May 10</td>\n",
       "      <td>Love it!</td>\n",
       "    </tr>\n",
       "    <tr>\n",
       "      <th>4</th>\n",
       "      <td>dice</td>\n",
       "      <td>21</td>\n",
       "      <td>May 10</td>\n",
       "      <td>Valkyr's Warcry is now recastable. Hooray!</td>\n",
       "    </tr>\n",
       "  </tbody>\n",
       "</table>\n",
       "</div>"
      ],
      "text/plain": [
       "           author likes    date  \\\n",
       "0         [DE]Sam   108   May 9   \n",
       "1        oswarlan   371  May 10   \n",
       "2  StageNameFrank    52  May 10   \n",
       "3            18K-    12  May 10   \n",
       "4            dice    21  May 10   \n",
       "\n",
       "                                             comment  \n",
       "0  VALKYR\\nTenno, A berserker’s fury fills the ai...  \n",
       "1  Honestly, losing the invulnerability on Hyster...  \n",
       "2  finally, valkyr's slide attack isn't the only ...  \n",
       "3                                           Love it!  \n",
       "4         Valkyr's Warcry is now recastable. Hooray!  "
      ]
     },
     "execution_count": 19,
     "metadata": {},
     "output_type": "execute_result"
    }
   ],
   "source": [
    "import pandas as pd\n",
    "import pickle\n",
    "\n",
    "# Transform to dataframe\n",
    "df = pd.DataFrame.from_dict(data_dict)\n",
    "\n",
    "# Store data\n",
    "with open(\"data/forum_posts.pkl\", \"wb\") as f:\n",
    "    pickle.dump(df, f)\n",
    "\n",
    "# Display results\n",
    "df.head()"
   ]
  },
  {
   "cell_type": "code",
   "execution_count": 22,
   "id": "4884950d",
   "metadata": {},
   "outputs": [
    {
     "data": {
      "text/plain": [
       "(5326, 4)"
      ]
     },
     "execution_count": 22,
     "metadata": {},
     "output_type": "execute_result"
    }
   ],
   "source": [
    "df.shape"
   ]
  }
 ],
 "metadata": {
  "kernelspec": {
   "display_name": "base",
   "language": "python",
   "name": "python3"
  },
  "language_info": {
   "codemirror_mode": {
    "name": "ipython",
    "version": 3
   },
   "file_extension": ".py",
   "mimetype": "text/x-python",
   "name": "python",
   "nbconvert_exporter": "python",
   "pygments_lexer": "ipython3",
   "version": "3.11.10"
  }
 },
 "nbformat": 4,
 "nbformat_minor": 5
}

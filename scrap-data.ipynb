{
 "cells": [
  {
   "cell_type": "code",
   "execution_count": 1,
   "id": "2711fde2",
   "metadata": {},
   "outputs": [],
   "source": [
    "from selenium import webdriver\n",
    "from selenium.webdriver.common.by import By\n",
    "import time\n",
    "from selenium.webdriver.support.ui import WebDriverWait\n",
    "from selenium.webdriver.support import expected_conditions as EC"
   ]
  },
  {
   "cell_type": "code",
   "execution_count": 3,
   "id": "d6f7efe6",
   "metadata": {},
   "outputs": [
    {
     "ename": "KeyboardInterrupt",
     "evalue": "",
     "output_type": "error",
     "traceback": [
      "\u001b[1;31m---------------------------------------------------------------------------\u001b[0m",
      "\u001b[1;31mKeyboardInterrupt\u001b[0m                         Traceback (most recent call last)",
      "Cell \u001b[1;32mIn[3], line 69\u001b[0m\n\u001b[0;32m     67\u001b[0m \u001b[38;5;66;03m# Close current tab\u001b[39;00m\n\u001b[0;32m     68\u001b[0m driver\u001b[38;5;241m.\u001b[39mquit()\n\u001b[1;32m---> 69\u001b[0m time\u001b[38;5;241m.\u001b[39msleep(\u001b[38;5;241m5\u001b[39m)\n",
      "\u001b[1;31mKeyboardInterrupt\u001b[0m: "
     ]
    }
   ],
   "source": [
    "# --- Set Up ---\n",
    "# Start Driver\n",
    "driver = webdriver.Chrome()\n",
    "\n",
    "# Access Reference Page\n",
    "url = 'https://forums.warframe.com/topic/1453670-dev-workshop-isleweaver-valkyr-rework/#comment-13297757'\n",
    "driver.get(url)\n",
    "time.sleep(5)\n",
    "\n",
    "# Find max page number\n",
    "xpath = '//input[contains(@type, \"number\") and contains(@class, \"ipsField_fullWidth\")]'\n",
    "items = driver.find_element(By.XPATH, xpath)\n",
    "max_page = int(items.get_attribute('max'))\n",
    "\n",
    "# List of pages with comments\n",
    "pages = [num_page for num_page in range(max_page-1, 1)]\n",
    "for idx in range(1, max_page):\n",
    "    pages.append(f'https://forums.warframe.com/topic/1453670-dev-workshop-isleweaver-valkyr-rework/page/{idx}/#comments')\n",
    "\n",
    "driver.quit()\n",
    "\n",
    "# --- Extract data from every page ---\n",
    "# Automatically open Inspector (F12)\n",
    "# If this isn't added, cannot get author names and comment post date (??)\n",
    "options = webdriver.ChromeOptions() \n",
    "options.add_argument(\"--auto-open-devtools-for-tabs\")\n",
    "\n",
    "data_dict = {'author': [], 'likes': [], 'date': [], 'comment': []}\n",
    "\n",
    "for url in pages:\n",
    "    # Start a new driver to avoid Cloudflare human check \n",
    "    # (still legal based on robots.txt)\n",
    "    driver = webdriver.Chrome(options=options)\n",
    "\n",
    "    # Access Reference Page\n",
    "    driver.get(url)\n",
    "\n",
    "    # Find comment boxes\n",
    "    xpath = '//article[contains(@class, \"cPost ipsBox ipsResponsive_pull\")]'\n",
    "    items = driver.find_elements(By.XPATH, xpath)\n",
    "\n",
    "    # Extract data        \n",
    "    for item in items:\n",
    "        # Comment's text without leading and trailing whitespaces\n",
    "        text_list = [i.text for i in item.find_elements(By.TAG_NAME, 'p')]\n",
    "        data_dict['comment'].append(' '.join(text_list).strip())\n",
    "\n",
    "        # Author and date from authorPane class\n",
    "        authorPane = item.find_element(By.CLASS_NAME, 'cAuthorPane_content')\n",
    "        name = authorPane.find_element(By.TAG_NAME, 'span').text\n",
    "        date = authorPane.find_element(By.TAG_NAME, 'time').text\n",
    "        \n",
    "        data_dict['author'].append(name)\n",
    "        data_dict['date'].append(date)\n",
    "\n",
    "        # Likes\n",
    "        try:\n",
    "            # Locate Like Counter\n",
    "            likeCountButton = item.find_element(By.CLASS_NAME, 'ipsReact_reactCount')\n",
    "            likes = likeCountButton.find_element(By.TAG_NAME, 'span').text\n",
    "        except:\n",
    "            # No counter found\n",
    "            likes = 0\n",
    "        finally:\n",
    "            data_dict['likes'].append(likes)\n",
    "    \n",
    "    # Close current tab\n",
    "    driver.quit()\n",
    "    time.sleep(5)\n"
   ]
  },
  {
   "cell_type": "code",
   "execution_count": 4,
   "id": "92a070c6",
   "metadata": {},
   "outputs": [
    {
     "data": {
      "text/html": [
       "<div>\n",
       "<style scoped>\n",
       "    .dataframe tbody tr th:only-of-type {\n",
       "        vertical-align: middle;\n",
       "    }\n",
       "\n",
       "    .dataframe tbody tr th {\n",
       "        vertical-align: top;\n",
       "    }\n",
       "\n",
       "    .dataframe thead th {\n",
       "        text-align: right;\n",
       "    }\n",
       "</style>\n",
       "<table border=\"1\" class=\"dataframe\">\n",
       "  <thead>\n",
       "    <tr style=\"text-align: right;\">\n",
       "      <th></th>\n",
       "      <th>author</th>\n",
       "      <th>likes</th>\n",
       "      <th>date</th>\n",
       "      <th>comment</th>\n",
       "    </tr>\n",
       "  </thead>\n",
       "  <tbody>\n",
       "    <tr>\n",
       "      <th>0</th>\n",
       "      <td>[DE]Sam</td>\n",
       "      <td>102</td>\n",
       "      <td>May 9</td>\n",
       "      <td>VALKYR\\nTenno, A berserker’s fury fills the ai...</td>\n",
       "    </tr>\n",
       "    <tr>\n",
       "      <th>1</th>\n",
       "      <td>oswarlan</td>\n",
       "      <td>352</td>\n",
       "      <td>May 10</td>\n",
       "      <td>Honestly, losing the invulnerability on Hyster...</td>\n",
       "    </tr>\n",
       "    <tr>\n",
       "      <th>2</th>\n",
       "      <td>StageNameFrank</td>\n",
       "      <td>49</td>\n",
       "      <td>May 10</td>\n",
       "      <td>finally, valkyr's slide attack isn't the only ...</td>\n",
       "    </tr>\n",
       "    <tr>\n",
       "      <th>3</th>\n",
       "      <td>18K-</td>\n",
       "      <td>10</td>\n",
       "      <td>May 10</td>\n",
       "      <td>Love it!</td>\n",
       "    </tr>\n",
       "    <tr>\n",
       "      <th>4</th>\n",
       "      <td>dice</td>\n",
       "      <td>18</td>\n",
       "      <td>May 10</td>\n",
       "      <td>Valkyr's Warcry is now recastable. Hooray!</td>\n",
       "    </tr>\n",
       "  </tbody>\n",
       "</table>\n",
       "</div>"
      ],
      "text/plain": [
       "           author likes    date  \\\n",
       "0         [DE]Sam   102   May 9   \n",
       "1        oswarlan   352  May 10   \n",
       "2  StageNameFrank    49  May 10   \n",
       "3            18K-    10  May 10   \n",
       "4            dice    18  May 10   \n",
       "\n",
       "                                             comment  \n",
       "0  VALKYR\\nTenno, A berserker’s fury fills the ai...  \n",
       "1  Honestly, losing the invulnerability on Hyster...  \n",
       "2  finally, valkyr's slide attack isn't the only ...  \n",
       "3                                           Love it!  \n",
       "4         Valkyr's Warcry is now recastable. Hooray!  "
      ]
     },
     "execution_count": 4,
     "metadata": {},
     "output_type": "execute_result"
    }
   ],
   "source": [
    "import pandas as pd\n",
    "import pickle\n",
    "\n",
    "# Transform to dataframe\n",
    "df = pd.DataFrame.from_dict(data_dict)\n",
    "\n",
    "# Store data\n",
    "with open(\"data/forum_posts.pkl\", \"wb\") as f:\n",
    "    pickle.dump(df, f)\n",
    "\n",
    "# Display results\n",
    "df.head()"
   ]
  },
  {
   "cell_type": "code",
   "execution_count": 5,
   "id": "71db201e",
   "metadata": {},
   "outputs": [
    {
     "data": {
      "text/plain": [
       "'https://forums.warframe.com/topic/1453670-dev-workshop-isleweaver-valkyr-rework/page/99/#comments'"
      ]
     },
     "execution_count": 5,
     "metadata": {},
     "output_type": "execute_result"
    }
   ],
   "source": [
    "url"
   ]
  }
 ],
 "metadata": {
  "kernelspec": {
   "display_name": "base",
   "language": "python",
   "name": "python3"
  },
  "language_info": {
   "codemirror_mode": {
    "name": "ipython",
    "version": 3
   },
   "file_extension": ".py",
   "mimetype": "text/x-python",
   "name": "python",
   "nbconvert_exporter": "python",
   "pygments_lexer": "ipython3",
   "version": "3.11.10"
  }
 },
 "nbformat": 4,
 "nbformat_minor": 5
}
